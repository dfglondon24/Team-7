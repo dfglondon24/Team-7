{
 "cells": [
  {
   "cell_type": "code",
   "execution_count": 1,
   "id": "564afd58-2648-4e78-8171-340891f85578",
   "metadata": {
    "tags": []
   },
   "outputs": [],
   "source": [
    "import pandas as pd\n",
    "\n",
    "import matplotlib.pyplot as plt\n",
    "import seaborn as sns"
   ]
  },
  {
   "cell_type": "code",
   "execution_count": 2,
   "id": "163ef9d4-901f-49ce-ae7c-fba51a779e15",
   "metadata": {
    "tags": []
   },
   "outputs": [],
   "source": [
    "def read_CBE_data(path, page=0):\n",
    "    data = pd.read_excel(path, sheet_name=page)\n",
    "    \n",
    "    data = data[[\n",
    "        \"IP\",\n",
    "        \"REGION\",\n",
    "        \"DISTRICT\",\n",
    "        \"COMMUNITY/CLASS\",\n",
    "        \"TYPE OF OOSC\",\n",
    "        \"SEX\",\n",
    "        \"AGE\",\n",
    "        \"DROP OUT (YES/NO)\",\n",
    "        \"GRADUATED (YES/NO)\",\n",
    "        \"TRANSITIONED (YES/NO)\",\n",
    "        \"Language\"]]\n",
    "    \n",
    "    data[\"DROP OUT (YES/NO)\"] = data[\"DROP OUT (YES/NO)\"].replace([\"NO\", \"No\"], \"NO\")\n",
    "    data[\"DROP OUT (YES/NO)\"] = data[\"DROP OUT (YES/NO)\"].replace([\"YES\", \"Yes\"], \"YES\")\n",
    "    \n",
    "    data[\"TRANSITIONED (YES/NO)\"] = data[\"TRANSITIONED (YES/NO)\"].replace([\"NO\", \"No\"], \"NO\")\n",
    "    data[\"TRANSITIONED (YES/NO)\"] = data[\"TRANSITIONED (YES/NO)\"].replace([\"YES\", \"Yes\"], \"YES\")\n",
    "    \n",
    "    return data"
   ]
  },
  {
   "cell_type": "code",
   "execution_count": 3,
   "id": "f80cf6de-d185-4f8f-a214-259300e17aab",
   "metadata": {
    "tags": []
   },
   "outputs": [],
   "source": [
    "cycle_1 = read_CBE_data(\"shared_data_read_only/Data/AfriKids/InternalData/AfriKids_CBE_Data/AfriKids CBE Cycle 1 Learner Facilitator LC-SMC Training.xls\", \"Learner Data Template\")\n",
    "cycle_2 = read_CBE_data(\"shared_data_read_only/Data/AfriKids/InternalData/AfriKids_CBE_Data/AfriKids CBE Cycle 2 Learner Facilitator LC-SMC Training.xls\", \"Learner Data Template\")\n",
    "cycle_3 = read_CBE_data(\"shared_data_read_only/Data/AfriKids/InternalData/AfriKids_CBE_Data/AfriKids CBE Cycle 3 Learner Facilitator LC-SMC Training.xlsx\", \"Learner Data Template\")\n",
    "cycle_4 = read_CBE_data(\"shared_data_read_only/Data/AfriKids/InternalData/AfriKids_CBE_Data/AfriKids CBE Cycle 4 Learner Facilitator LC-SMC Training.xls\", \"Learner Data Template\")\n",
    "cycle_5 = read_CBE_data(\"shared_data_read_only/Data/AfriKids/InternalData/AfriKids_CBE_Data/Afrikids CBE Cycle 5  Learner Facilitator LC-SMC Training.xls\")"
   ]
  },
  {
   "cell_type": "code",
   "execution_count": 4,
   "id": "2f8f555f-a3d9-4b64-bf91-ce2294c82874",
   "metadata": {
    "tags": []
   },
   "outputs": [],
   "source": [
    "all_results = pd.concat([cycle_1, cycle_2, cycle_3, cycle_4, cycle_5])"
   ]
  },
  {
   "cell_type": "code",
   "execution_count": 5,
   "id": "d54596e0-a490-4aeb-b153-c39d21da6140",
   "metadata": {
    "tags": []
   },
   "outputs": [
    {
     "name": "stdout",
     "output_type": "stream",
     "text": [
      "DROP OUT (YES/NO)     NO  YES  YES/NO Ratio  Graduation Percentage\n",
      "REGION                                                            \n",
      "Northern            4404   96      0.021798              97.820163\n",
      "Upper East         11749  408      0.034726              96.527364\n"
     ]
    }
   ],
   "source": [
    "grouped = all_results.groupby(['REGION', 'DROP OUT (YES/NO)']).size().reset_index(name='counts')\n",
    "\n",
    "pivot_table = grouped.pivot(index='REGION', columns='DROP OUT (YES/NO)', values='counts').fillna(0)\n",
    "\n",
    "pivot_table['YES/NO Ratio'] = pivot_table['YES'] / pivot_table['NO']\n",
    "pivot_table[\"Graduation Percentage\"] = 100 - pivot_table['YES/NO Ratio'] * 100\n",
    "\n",
    "print(pivot_table)"
   ]
  },
  {
   "cell_type": "code",
   "execution_count": 56,
   "id": "d148281e-b738-4dfe-b626-d97acfffc073",
   "metadata": {
    "tags": []
   },
   "outputs": [],
   "source": [
    "graduates = all_results[all_results[\"GRADUATED (YES/NO)\"] == \"YES\"]\n",
    "\n",
    "def compute_yes_percentage(series):\n",
    "    yes_count = (series == 'YES').sum()\n",
    "    total_count = series.notna().sum()\n",
    "    percentage = (yes_count / total_count) * 100 if total_count > 0 else 0\n",
    "    return percentage\n",
    "\n",
    "graduated_percentages = all_results.groupby('REGION')['GRADUATED (YES/NO)'].apply(compute_yes_percentage)\n",
    "transitioned_percentages = graduates.groupby('REGION')['TRANSITIONED (YES/NO)'].apply(compute_yes_percentage)\n",
    "\n",
    "result = pd.DataFrame({\n",
    "    'Graduated (%)': graduated_percentages,\n",
    "    'Transitioned (%)': transitioned_percentages\n",
    "})"
   ]
  },
  {
   "cell_type": "code",
   "execution_count": 63,
   "id": "53b13df5-fe34-44b8-a8df-8cab4303b298",
   "metadata": {
    "tags": []
   },
   "outputs": [
    {
     "data": {
      "text/html": [
       "<div>\n",
       "<style scoped>\n",
       "    .dataframe tbody tr th:only-of-type {\n",
       "        vertical-align: middle;\n",
       "    }\n",
       "\n",
       "    .dataframe tbody tr th {\n",
       "        vertical-align: top;\n",
       "    }\n",
       "\n",
       "    .dataframe thead th {\n",
       "        text-align: right;\n",
       "    }\n",
       "</style>\n",
       "<table border=\"1\" class=\"dataframe\">\n",
       "  <thead>\n",
       "    <tr style=\"text-align: right;\">\n",
       "      <th></th>\n",
       "      <th>Graduated (%)</th>\n",
       "      <th>Transitioned (%)</th>\n",
       "      <th>Dropped out</th>\n",
       "      <th>Graduated</th>\n",
       "      <th>Transitioned</th>\n",
       "    </tr>\n",
       "    <tr>\n",
       "      <th>REGION</th>\n",
       "      <th></th>\n",
       "      <th></th>\n",
       "      <th></th>\n",
       "      <th></th>\n",
       "      <th></th>\n",
       "    </tr>\n",
       "  </thead>\n",
       "  <tbody>\n",
       "    <tr>\n",
       "      <th>Northern</th>\n",
       "      <td>65.266667</td>\n",
       "      <td>99.323867</td>\n",
       "      <td>34.733333</td>\n",
       "      <td>0.441289</td>\n",
       "      <td>64.825378</td>\n",
       "    </tr>\n",
       "    <tr>\n",
       "      <th>Upper East</th>\n",
       "      <td>43.653862</td>\n",
       "      <td>99.731423</td>\n",
       "      <td>56.346138</td>\n",
       "      <td>0.117244</td>\n",
       "      <td>43.536618</td>\n",
       "    </tr>\n",
       "  </tbody>\n",
       "</table>\n",
       "</div>"
      ],
      "text/plain": [
       "            Graduated (%)  Transitioned (%)  Dropped out  Graduated  \\\n",
       "REGION                                                                \n",
       "Northern        65.266667         99.323867    34.733333   0.441289   \n",
       "Upper East      43.653862         99.731423    56.346138   0.117244   \n",
       "\n",
       "            Transitioned  \n",
       "REGION                    \n",
       "Northern       64.825378  \n",
       "Upper East     43.536618  "
      ]
     },
     "execution_count": 63,
     "metadata": {},
     "output_type": "execute_result"
    }
   ],
   "source": [
    "result"
   ]
  },
  {
   "cell_type": "code",
   "execution_count": 58,
   "id": "6a5605af-95ea-4ff9-9cd4-357638ad06e8",
   "metadata": {},
   "outputs": [],
   "source": [
    "result['Dropped out'] = 100 - result['Graduated (%)']\n",
    "result[\"Graduated\"] = (1 - result['Transitioned (%)'] / 100) * result['Graduated (%)']\n",
    "result[\"Transitioned\"] = (result['Transitioned (%)'] / 100) * result['Graduated (%)']"
   ]
  },
  {
   "cell_type": "code",
   "execution_count": 66,
   "id": "b00a7ace-3107-41fa-8a52-405f0245f420",
   "metadata": {
    "tags": []
   },
   "outputs": [
    {
     "data": {
      "text/plain": [
       "<Axes: xlabel='REGION'>"
      ]
     },
     "execution_count": 66,
     "metadata": {},
     "output_type": "execute_result"
    },
    {
     "data": {
      "image/png": "[encoded data removed]",
      "text/plain": [
       "<Figure size 640x480 with 1 Axes>"
      ]
     },
     "metadata": {},
     "output_type": "display_data"
    }
   ],
   "source": [
    "to_plot = result[[\"Dropped out\", \"Graduated\", \"Transitioned\"]]\n",
    "\n",
    "to_plot.plot(kind=\"bar\", stacked=True, color=['#eb4258', 'orange', 'green'])"
   ]
  },
  {
   "cell_type": "code",
   "execution_count": null,
   "id": "8470e4c0-6b17-4a29-83ae-43b1584fef2a",
   "metadata": {},
   "outputs": [],
   "source": []
  }
 ],
 "metadata": {
  "kernelspec": {
   "display_name": "Python 3 (ipykernel)",
   "language": "python",
   "name": "python3"
  },
  "language_info": {
   "codemirror_mode": {
    "name": "ipython",
    "version": 3
   },
   "file_extension": ".py",
   "mimetype": "text/x-python",
   "name": "python",
   "nbconvert_exporter": "python",
   "pygments_lexer": "ipython3",
   "version": "3.10.10"
  }
 },
 "nbformat": 4,
 "nbformat_minor": 5
}
