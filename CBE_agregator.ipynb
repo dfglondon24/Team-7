{
 "cells": [
  {
   "cell_type": "code",
   "execution_count": 68,
   "id": "564afd58-2648-4e78-8171-340891f85578",
   "metadata": {
    "tags": []
   },
   "outputs": [],
   "source": [
    "import pandas as pd\n",
    "\n",
    "import matplotlib.pyplot as plt\n",
    "import seaborn as sns"
   ]
  },
  {
   "cell_type": "code",
   "execution_count": 69,
   "id": "163ef9d4-901f-49ce-ae7c-fba51a779e15",
   "metadata": {
    "tags": []
   },
   "outputs": [],
   "source": [
    "def read_CBE_data(path, page=0):\n",
    "    data = pd.read_excel(path, sheet_name=page)\n",
    "    \n",
    "    data = data[[\n",
    "    \"IP\",\n",
    "    \"DISTRICT\",\n",
    "    \"COMMUNITY/CLASS\",\n",
    "    \"TYPE OF OOSC\",\n",
    "    \"SEX\",\n",
    "    \"AGE\",\n",
    "    \"DROP OUT (YES/NO)\",\n",
    "    \"GRADUATED (YES/NO)\",\n",
    "    \"Language\"]]\n",
    "    \n",
    "    data[\"DROP OUT (YES/NO)\"] = data[\"DROP OUT (YES/NO)\"].replace([\"NO\", \"No\"], \"NO\")\n",
    "    data[\"DROP OUT (YES/NO)\"] = data[\"DROP OUT (YES/NO)\"].replace([\"YES\", \"Yes\"], \"YES\")\n",
    "    \n",
    "    return data"
   ]
  },
  {
   "cell_type": "code",
   "execution_count": 72,
   "id": "f80cf6de-d185-4f8f-a214-259300e17aab",
   "metadata": {
    "tags": []
   },
   "outputs": [],
   "source": [
    "cycle_1 = read_CBE_data(\"shared_data_read_only/Data/AfriKids/InternalData/AfriKids_CBE_Data/AfriKids CBE Cycle 1 Learner Facilitator LC-SMC Training.xls\", \"Learner Data Template\")\n",
    "cycle_2 = read_CBE_data(\"shared_data_read_only/Data/AfriKids/InternalData/AfriKids_CBE_Data/AfriKids CBE Cycle 2 Learner Facilitator LC-SMC Training.xls\", \"Learner Data Template\")\n",
    "cycle_3 = read_CBE_data(\"shared_data_read_only/Data/AfriKids/InternalData/AfriKids_CBE_Data/AfriKids CBE Cycle 3 Learner Facilitator LC-SMC Training.xlsx\", \"Learner Data Template\")\n",
    "cycle_4 = read_CBE_data(\"shared_data_read_only/Data/AfriKids/InternalData/AfriKids_CBE_Data/AfriKids CBE Cycle 4 Learner Facilitator LC-SMC Training.xls\", \"Learner Data Template\")\n",
    "cycle_5 = read_CBE_data(\"shared_data_read_only/Data/AfriKids/InternalData/AfriKids_CBE_Data/Afrikids CBE Cycle 5  Learner Facilitator LC-SMC Training.xls\")"
   ]
  },
  {
   "cell_type": "code",
   "execution_count": 73,
   "id": "2f8f555f-a3d9-4b64-bf91-ce2294c82874",
   "metadata": {
    "tags": []
   },
   "outputs": [],
   "source": [
    "all_results = pd.concat([cycle_1, cycle_2, cycle_3, cycle_4, cycle_5])"
   ]
  },
  {
   "cell_type": "code",
   "execution_count": null,
   "id": "d54596e0-a490-4aeb-b153-c39d21da6140",
   "metadata": {},
   "outputs": [],
   "source": []
  }
 ],
 "metadata": {
  "kernelspec": {
   "display_name": "Python 3 (ipykernel)",
   "language": "python",
   "name": "python3"
  },
  "language_info": {
   "codemirror_mode": {
    "name": "ipython",
    "version": 3
   },
   "file_extension": ".py",
   "mimetype": "text/x-python",
   "name": "python",
   "nbconvert_exporter": "python",
   "pygments_lexer": "ipython3",
   "version": "3.10.10"
  }
 },
 "nbformat": 4,
 "nbformat_minor": 5
}
