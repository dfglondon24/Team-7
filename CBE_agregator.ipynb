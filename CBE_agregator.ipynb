{
 "cells": [
  {
   "cell_type": "code",
   "execution_count": 1,
   "id": "564afd58-2648-4e78-8171-340891f85578",
   "metadata": {
    "tags": []
   },
   "outputs": [],
   "source": [
    "import pandas as pd\n",
    "\n",
    "import matplotlib.pyplot as plt\n",
    "import seaborn as sns"
   ]
  },
  {
   "cell_type": "code",
   "execution_count": 12,
   "id": "163ef9d4-901f-49ce-ae7c-fba51a779e15",
   "metadata": {
    "tags": []
   },
   "outputs": [],
   "source": [
    "def read_CBE_data(path, page=0):\n",
    "    data = pd.read_excel(path, sheet_name=page)\n",
    "    \n",
    "    data = data[[\n",
    "        \"IP\",\n",
    "        \"REGION\",\n",
    "        \"DISTRICT\",\n",
    "        \"COMMUNITY/CLASS\",\n",
    "        \"TYPE OF OOSC\",\n",
    "        \"SEX\",\n",
    "        \"AGE\",\n",
    "        \"DROP OUT (YES/NO)\",\n",
    "        \"GRADUATED (YES/NO)\",\n",
    "        \"TRANSITIONED (YES/NO)\",\n",
    "        \"Language\"]]\n",
    "    \n",
    "    data[\"DROP OUT (YES/NO)\"] = data[\"DROP OUT (YES/NO)\"].replace([\"NO\", \"No\"], \"NO\")\n",
    "    data[\"DROP OUT (YES/NO)\"] = data[\"DROP OUT (YES/NO)\"].replace([\"YES\", \"Yes\"], \"YES\")\n",
    "    \n",
    "    data[\"GRADUATED (YES/NO)\"] = data[\"GRADUATED (YES/NO)\"].replace([\"NO\", \"No\"], \"NO\")\n",
    "    data[\"GRADUATED (YES/NO)\"] = data[\"GRADUATED (YES/NO)\"].replace([\"YES\", \"Yes\"], \"YES\")\n",
    "    \n",
    "    data[\"TRANSITIONED (YES/NO)\"] = data[\"TRANSITIONED (YES/NO)\"].replace([\"NO\", \"No\"], \"NO\")\n",
    "    data[\"TRANSITIONED (YES/NO)\"] = data[\"TRANSITIONED (YES/NO)\"].replace([\"YES\", \"Yes\"], \"YES\")\n",
    "    \n",
    "    return data"
   ]
  },
  {
   "cell_type": "code",
   "execution_count": 13,
   "id": "f80cf6de-d185-4f8f-a214-259300e17aab",
   "metadata": {
    "tags": []
   },
   "outputs": [],
   "source": [
    "cycle_1 = read_CBE_data(\"../shared_data_read_only/Data/AfriKids/InternalData/AfriKids_CBE_Data/AfriKids CBE Cycle 1 Learner Facilitator LC-SMC Training.xls\", \"Learner Data Template\")\n",
    "cycle_2 = read_CBE_data(\"../shared_data_read_only/Data/AfriKids/InternalData/AfriKids_CBE_Data/AfriKids CBE Cycle 2 Learner Facilitator LC-SMC Training.xls\", \"Learner Data Template\")\n",
    "cycle_3 = read_CBE_data(\"../shared_data_read_only/Data/AfriKids/InternalData/AfriKids_CBE_Data/AfriKids CBE Cycle 3 Learner Facilitator LC-SMC Training.xlsx\", \"Learner Data Template\")\n",
    "cycle_4 = read_CBE_data(\"../shared_data_read_only/Data/AfriKids/InternalData/AfriKids_CBE_Data/AfriKids CBE Cycle 4 Learner Facilitator LC-SMC Training.xls\", \"Learner Data Template\")\n",
    "cycle_5 = read_CBE_data(\"../shared_data_read_only/Data/AfriKids/InternalData/AfriKids_CBE_Data/Afrikids CBE Cycle 5  Learner Facilitator LC-SMC Training.xls\")"
   ]
  },
  {
   "cell_type": "code",
   "execution_count": 14,
   "id": "2f8f555f-a3d9-4b64-bf91-ce2294c82874",
   "metadata": {
    "tags": []
   },
   "outputs": [],
   "source": [
    "all_results = pd.concat([cycle_1, cycle_2, cycle_3, cycle_4, cycle_5])"
   ]
  },
  {
   "cell_type": "code",
   "execution_count": 15,
   "id": "d54596e0-a490-4aeb-b153-c39d21da6140",
   "metadata": {
    "tags": []
   },
   "outputs": [
    {
     "name": "stdout",
     "output_type": "stream",
     "text": [
      "DROP OUT (YES/NO)     NO  YES  YES/NO Ratio  Graduation Percentage\n",
      "REGION                                                            \n",
      "Northern            4404   96      0.021798              97.820163\n",
      "Upper East         11749  408      0.034726              96.527364\n"
     ]
    }
   ],
   "source": [
    "grouped = all_results.groupby(['REGION', 'DROP OUT (YES/NO)']).size().reset_index(name='counts')\n",
    "\n",
    "pivot_table = grouped.pivot(index='REGION', columns='DROP OUT (YES/NO)', values='counts').fillna(0)\n",
    "\n",
    "pivot_table['YES/NO Ratio'] = pivot_table['YES'] / pivot_table['NO']\n",
    "pivot_table[\"Graduation Percentage\"] = 100 - pivot_table['YES/NO Ratio'] * 100\n",
    "\n",
    "print(pivot_table)"
   ]
  },
  {
   "cell_type": "code",
   "execution_count": 16,
   "id": "d148281e-b738-4dfe-b626-d97acfffc073",
   "metadata": {
    "tags": []
   },
   "outputs": [],
   "source": [
    "graduates = all_results[all_results[\"GRADUATED (YES/NO)\"] == \"YES\"]\n",
    "\n",
    "def compute_yes_percentage(series):\n",
    "    yes_count = (series == 'YES').sum()\n",
    "    total_count = series.notna().sum()\n",
    "    percentage = (yes_count / total_count) * 100 if total_count > 0 else 0\n",
    "    return percentage\n",
    "\n",
    "graduated_percentages = all_results.groupby('REGION')['GRADUATED (YES/NO)'].apply(compute_yes_percentage)\n",
    "transitioned_percentages = graduates.groupby('REGION')['TRANSITIONED (YES/NO)'].apply(compute_yes_percentage)\n",
    "\n",
    "result = pd.DataFrame({\n",
    "    'Graduated (%)': graduated_percentages,\n",
    "    'Transitioned (%)': transitioned_percentages\n",
    "})"
   ]
  },
  {
   "cell_type": "code",
   "execution_count": 17,
   "id": "53b13df5-fe34-44b8-a8df-8cab4303b298",
   "metadata": {
    "tags": []
   },
   "outputs": [
    {
     "data": {
      "text/html": [
       "<div>\n",
       "<style scoped>\n",
       "    .dataframe tbody tr th:only-of-type {\n",
       "        vertical-align: middle;\n",
       "    }\n",
       "\n",
       "    .dataframe tbody tr th {\n",
       "        vertical-align: top;\n",
       "    }\n",
       "\n",
       "    .dataframe thead th {\n",
       "        text-align: right;\n",
       "    }\n",
       "</style>\n",
       "<table border=\"1\" class=\"dataframe\">\n",
       "  <thead>\n",
       "    <tr style=\"text-align: right;\">\n",
       "      <th></th>\n",
       "      <th>Graduated (%)</th>\n",
       "      <th>Transitioned (%)</th>\n",
       "    </tr>\n",
       "    <tr>\n",
       "      <th>REGION</th>\n",
       "      <th></th>\n",
       "      <th></th>\n",
       "    </tr>\n",
       "  </thead>\n",
       "  <tbody>\n",
       "    <tr>\n",
       "      <th>Northern</th>\n",
       "      <td>97.822222</td>\n",
       "      <td>99.660326</td>\n",
       "    </tr>\n",
       "    <tr>\n",
       "      <th>Upper East</th>\n",
       "      <td>96.306655</td>\n",
       "      <td>98.417518</td>\n",
       "    </tr>\n",
       "  </tbody>\n",
       "</table>\n",
       "</div>"
      ],
      "text/plain": [
       "            Graduated (%)  Transitioned (%)\n",
       "REGION                                     \n",
       "Northern        97.822222         99.660326\n",
       "Upper East      96.306655         98.417518"
      ]
     },
     "execution_count": 17,
     "metadata": {},
     "output_type": "execute_result"
    }
   ],
   "source": [
    "result"
   ]
  },
  {
   "cell_type": "code",
   "execution_count": 18,
   "id": "6a5605af-95ea-4ff9-9cd4-357638ad06e8",
   "metadata": {},
   "outputs": [],
   "source": [
    "result['Dropped out'] = 100 - result['Graduated (%)']\n",
    "result[\"Graduated\"] = (1 - result['Transitioned (%)'] / 100) * result['Graduated (%)']\n",
    "result[\"Transitioned\"] = (result['Transitioned (%)'] / 100) * result['Graduated (%)']"
   ]
  },
  {
   "cell_type": "code",
   "execution_count": 19,
   "id": "b00a7ace-3107-41fa-8a52-405f0245f420",
   "metadata": {
    "tags": []
   },
   "outputs": [
    {
     "name": "stderr",
     "output_type": "stream",
     "text": [
      "/tmp/ipykernel_131800/183277576.py:2: SettingWithCopyWarning: \n",
      "A value is trying to be set on a copy of a slice from a DataFrame\n",
      "\n",
      "See the caveats in the documentation: https://pandas.pydata.org/pandas-docs/stable/user_guide/indexing.html#returning-a-view-versus-a-copy\n",
      "  to_plot.rename(columns={\n"
     ]
    },
    {
     "data": {
      "image/png": "[encoded data removed]",
      "text/plain": [
       "<Figure size 800x600 with 1 Axes>"
      ]
     },
     "metadata": {},
     "output_type": "display_data"
    }
   ],
   "source": [
    "to_plot = result[[\"Dropped out\", \"Graduated\", \"Transitioned\"]]\n",
    "to_plot.rename(columns={\n",
    "    \"Dropped out\": \"Dropped out (%)\",\n",
    "    \"Graduated\": \"Graduated (%)\",\n",
    "    \"Transitioned\": \"Transitioned (%)\"\n",
    "}, inplace=True)\n",
    "\n",
    "# Create a figure and axis to control the plot size\n",
    "fig, ax = plt.subplots(figsize=(8, 6))  # Adjust the figsize as needed\n",
    "\n",
    "# Plot the data\n",
    "to_plot.plot(kind=\"bar\", stacked=True, color=['#eb4258', 'orange', 'green'], ax=ax)\n",
    "\n",
    "# Set the title\n",
    "ax.set_title(\"Graduation and Transition Percentage of CBE Programme\")\n",
    "\n",
    "# Move the legend outside the plot area\n",
    "ax.legend(loc='center left', bbox_to_anchor=(1, 0.5))\n",
    "plt.xticks(rotation=45)\n",
    "\n",
    "# Adjust layout to make room for the legend\n",
    "plt.tight_layout()\n",
    "\n",
    "# Display the plot\n",
    "plt.show()"
   ]
  },
  {
   "cell_type": "code",
   "execution_count": 25,
   "id": "5c2bd96b-50e3-4ca5-85a4-99a452442e77",
   "metadata": {
    "tags": []
   },
   "outputs": [],
   "source": [
    "a = all_results.groupby([\"REGION\", \"GRADUATED (YES/NO)\"]).count()"
   ]
  },
  {
   "cell_type": "code",
   "execution_count": 26,
   "id": "0277fca7-c94e-4479-8b94-f61c06cf14fa",
   "metadata": {
    "tags": []
   },
   "outputs": [
    {
     "data": {
      "text/html": [
       "<div>\n",
       "<style scoped>\n",
       "    .dataframe tbody tr th:only-of-type {\n",
       "        vertical-align: middle;\n",
       "    }\n",
       "\n",
       "    .dataframe tbody tr th {\n",
       "        vertical-align: top;\n",
       "    }\n",
       "\n",
       "    .dataframe thead th {\n",
       "        text-align: right;\n",
       "    }\n",
       "</style>\n",
       "<table border=\"1\" class=\"dataframe\">\n",
       "  <thead>\n",
       "    <tr style=\"text-align: right;\">\n",
       "      <th></th>\n",
       "      <th></th>\n",
       "      <th>IP</th>\n",
       "      <th>DISTRICT</th>\n",
       "      <th>COMMUNITY/CLASS</th>\n",
       "      <th>TYPE OF OOSC</th>\n",
       "      <th>SEX</th>\n",
       "      <th>AGE</th>\n",
       "      <th>DROP OUT (YES/NO)</th>\n",
       "      <th>TRANSITIONED (YES/NO)</th>\n",
       "      <th>Language</th>\n",
       "    </tr>\n",
       "    <tr>\n",
       "      <th>REGION</th>\n",
       "      <th>GRADUATED (YES/NO)</th>\n",
       "      <th></th>\n",
       "      <th></th>\n",
       "      <th></th>\n",
       "      <th></th>\n",
       "      <th></th>\n",
       "      <th></th>\n",
       "      <th></th>\n",
       "      <th></th>\n",
       "      <th></th>\n",
       "    </tr>\n",
       "  </thead>\n",
       "  <tbody>\n",
       "    <tr>\n",
       "      <th rowspan=\"2\" valign=\"top\">Northern</th>\n",
       "      <th>NO</th>\n",
       "      <td>98</td>\n",
       "      <td>98</td>\n",
       "      <td>98</td>\n",
       "      <td>66</td>\n",
       "      <td>98</td>\n",
       "      <td>98</td>\n",
       "      <td>98</td>\n",
       "      <td>24</td>\n",
       "      <td>1</td>\n",
       "    </tr>\n",
       "    <tr>\n",
       "      <th>YES</th>\n",
       "      <td>4402</td>\n",
       "      <td>4402</td>\n",
       "      <td>4402</td>\n",
       "      <td>2933</td>\n",
       "      <td>4402</td>\n",
       "      <td>4402</td>\n",
       "      <td>4402</td>\n",
       "      <td>2944</td>\n",
       "      <td>11</td>\n",
       "    </tr>\n",
       "    <tr>\n",
       "      <th rowspan=\"2\" valign=\"top\">Upper East</th>\n",
       "      <th>NO</th>\n",
       "      <td>449</td>\n",
       "      <td>449</td>\n",
       "      <td>449</td>\n",
       "      <td>54</td>\n",
       "      <td>449</td>\n",
       "      <td>449</td>\n",
       "      <td>449</td>\n",
       "      <td>373</td>\n",
       "      <td>0</td>\n",
       "    </tr>\n",
       "    <tr>\n",
       "      <th>YES</th>\n",
       "      <td>11708</td>\n",
       "      <td>11708</td>\n",
       "      <td>11708</td>\n",
       "      <td>4196</td>\n",
       "      <td>11708</td>\n",
       "      <td>11708</td>\n",
       "      <td>11708</td>\n",
       "      <td>10869</td>\n",
       "      <td>48</td>\n",
       "    </tr>\n",
       "  </tbody>\n",
       "</table>\n",
       "</div>"
      ],
      "text/plain": [
       "                                  IP  DISTRICT  COMMUNITY/CLASS  TYPE OF OOSC  \\\n",
       "REGION     GRADUATED (YES/NO)                                                   \n",
       "Northern   NO                     98        98               98            66   \n",
       "           YES                  4402      4402             4402          2933   \n",
       "Upper East NO                    449       449              449            54   \n",
       "           YES                 11708     11708            11708          4196   \n",
       "\n",
       "                                 SEX    AGE  DROP OUT (YES/NO)  \\\n",
       "REGION     GRADUATED (YES/NO)                                    \n",
       "Northern   NO                     98     98                 98   \n",
       "           YES                  4402   4402               4402   \n",
       "Upper East NO                    449    449                449   \n",
       "           YES                 11708  11708              11708   \n",
       "\n",
       "                               TRANSITIONED (YES/NO)  Language  \n",
       "REGION     GRADUATED (YES/NO)                                   \n",
       "Northern   NO                                     24         1  \n",
       "           YES                                  2944        11  \n",
       "Upper East NO                                    373         0  \n",
       "           YES                                 10869        48  "
      ]
     },
     "execution_count": 26,
     "metadata": {},
     "output_type": "execute_result"
    }
   ],
   "source": [
    "a"
   ]
  },
  {
   "cell_type": "code",
   "execution_count": null,
   "id": "c61aa8e4-bbd9-4b5f-a049-ba3af1c7e4d1",
   "metadata": {},
   "outputs": [],
   "source": []
  }
 ],
 "metadata": {
  "kernelspec": {
   "display_name": "Python 3 (ipykernel)",
   "language": "python",
   "name": "python3"
  },
  "language_info": {
   "codemirror_mode": {
    "name": "ipython",
    "version": 3
   },
   "file_extension": ".py",
   "mimetype": "text/x-python",
   "name": "python",
   "nbconvert_exporter": "python",
   "pygments_lexer": "ipython3",
   "version": "3.10.10"
  }
 },
 "nbformat": 4,
 "nbformat_minor": 5
}
