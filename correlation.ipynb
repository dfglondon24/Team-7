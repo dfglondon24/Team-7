{
 "cells": [
  {
   "cell_type": "code",
   "execution_count": null,
   "id": "596b9919-bc5d-4a8c-8d98-ce4019963cae",
   "metadata": {},
   "outputs": [],
   "source": [
    "import pandas as pd\n",
    "import matplotlib.pyplot as plt\n",
    "import seaborn as sns\n",
    "\n",
    "# Sample data for healthcare coverage by region (replace with actual data if available)\n",
    "healthcare_data = {\n",
    "    'Region': ['Western', 'Central', 'Greater Accra', 'Volta', 'Eastern', 'Ashanti', \n",
    "               'Western North', 'Ahafo', 'Bono', 'Bono East', 'Oti', 'Northern', \n",
    "               'Savannah', 'North East', 'Upper East', 'Upper West'],\n",
    "    'Healthcare_Coverage': [65.3, 62.1, 78.4, 59.7, 61.5, 67.8, \n",
    "                            60.2, 58.1, 62.7, 60.5, 55.3, 57.2, \n",
    "                            53.6, 54.2, 52.9, 51.0]  # Replace with actual values\n",
    "}\n",
    "\n",
    "# Create a DataFrame for healthcare coverage data\n",
    "df_healthcare = pd.DataFrame(healthcare_data)\n",
    "\n",
    "# Sample literacy data (replace with actual values if available)\n",
    "literacy_data = {\n",
    "    'Region': ['Western', 'Central', 'Greater Accra', 'Volta', 'Eastern', 'Ashanti', \n",
    "               'Western North', 'Ahafo', 'Bono', 'Bono East', 'Oti', 'Northern', \n",
    "               'Savannah', 'North East', 'Upper East', 'Upper West'],\n",
    "    'Literacy_Rate': [74.5, 72.3, 89.6, 68.1, 71.8, 77.4, 70.5, 65.4, 73.6, 69.8, \n",
    "                      64.2, 66.7, 60.5, 63.4, 62.1, 61.2]  # Replace with actual values\n",
    "}\n",
    "\n",
    "# Create a DataFrame for literacy data\n",
    "df_literacy = pd.DataFrame(literacy_data)\n",
    "\n",
    "# Merge healthcare coverage data with literacy data on 'Region'\n",
    "merged_health_literacy = pd.merge(df_healthcare, df_literacy, on='Region')\n",
    "\n",
    "# Calculate the correlation between Healthcare Coverage and Literacy Rate\n",
    "correlation_health_literacy = merged_health_literacy['Healthcare_Coverage'].corr(merged_health_literacy['Literacy_Rate'])\n",
    "\n",
    "# Print the merged data and the correlation result\n",
    "print(\"Merged Data (Healthcare Coverage and Literacy Rate):\")\n",
    "print(merged_health_literacy)\n",
    "print(f\"\\nCorrelation between Healthcare Coverage and Literacy Rate: {correlation_health_literacy:.2f}\")\n",
    "\n",
    "# Plot the relationship between Healthcare Coverage and Literacy Rate\n",
    "plt.figure(figsize=(8, 6))\n",
    "sns.scatterplot(data=merged_health_literacy, x='Literacy_Rate', y='Healthcare_Coverage', hue='Region', s=100)\n",
    "plt.title('Correlation between Literacy Rate and Healthcare Coverage by Region')\n",
    "plt.xlabel('Literacy Rate (%)')\n",
    "plt.ylabel('Healthcare Coverage (%)')\n",
    "plt.grid(True)\n",
    "plt.tight_layout()\n",
    "plt.show()\n"
   ]
  }
 ],
 "metadata": {
  "kernelspec": {
   "display_name": "Python 3 (ipykernel)",
   "language": "python",
   "name": "python3"
  },
  "language_info": {
   "codemirror_mode": {
    "name": "ipython",
    "version": 3
   },
   "file_extension": ".py",
   "mimetype": "text/x-python",
   "name": "python",
   "nbconvert_exporter": "python",
   "pygments_lexer": "ipython3",
   "version": "3.10.10"
  }
 },
 "nbformat": 4,
 "nbformat_minor": 5
}
