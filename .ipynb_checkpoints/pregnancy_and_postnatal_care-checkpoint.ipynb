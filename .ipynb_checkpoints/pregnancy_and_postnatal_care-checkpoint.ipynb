{
 "cells": [
  {
   "cell_type": "code",
   "execution_count": 3,
   "id": "bd01e15d-a323-4822-a66e-40bfcd2b8cf1",
   "metadata": {
    "tags": []
   },
   "outputs": [],
   "source": [
    "import pandas as pd\n",
    "import numpy as np"
   ]
  },
  {
   "cell_type": "code",
   "execution_count": 9,
   "id": "677d420f-bd21-4115-97ce-afd20af585f2",
   "metadata": {
    "tags": []
   },
   "outputs": [
    {
     "name": "stdout",
     "output_type": "stream",
     "text": [
      "Warning: column count mismatch (143 + 223 != 899)\n",
      "\n"
     ]
    },
    {
     "name": "stderr",
     "output_type": "stream",
     "text": [
      "/tmp/ipykernel_74013/2611288742.py:30: SettingWithCopyWarning: \n",
      "A value is trying to be set on a copy of a slice from a DataFrame.\n",
      "Try using .loc[row_indexer,col_indexer] = value instead\n",
      "\n",
      "See the caveats in the documentation: https://pandas.pydata.org/pandas-docs/stable/user_guide/indexing.html#returning-a-view-versus-a-copy\n",
      "  clean_data[\"No of child deaths\"] = renamed_columns_data[[\"Daughters who have died\", \"Sons who have died\"]].sum(axis=1)\n"
     ]
    }
   ],
   "source": [
    "pregnancy_postnatalcare_2022 = pd.read_sas(\"../shared_data_read_only/Data/DHS/GH_2022_DHS/GHNR8BSD/GHNR8BFL.SAS7BDAT\")\n",
    "renamed_columns_data = pregnancy_postnatalcare_2022.rename(\n",
    "    columns={\n",
    "        \"V012\": \"Respondent's current age\",\n",
    "        \"V013\": \"Age in 5-year groups\",\n",
    "        \"V175\": \"Reason for moving to current place of residence\",\n",
    "        \"V206\": \"Sons who have died\",\n",
    "        \"V106\": \"Highest educational level\",\n",
    "        \"V207\": \"Daughters who have died\",\n",
    "        \"V022\": \"Sample strata for sampling errors\",\n",
    "        \"V213\": \"Currently pregnant\",\n",
    "        # \"S001\": \"Eco-region\",\n",
    "        # \"S704\": \"Highest grade completed\",\n",
    "        \"V113\": \"Source of drinking water\",\n",
    "        \"V367A\": \"Wanted last pregnancy\"\n",
    "    }\n",
    ")\n",
    "clean_data = renamed_columns_data[[\n",
    "    \"Respondent's current age\",\n",
    "    \"Age in 5-year groups\",\n",
    "    \"Reason for moving to current place of residence\",\n",
    "    \"Highest educational level\",\n",
    "    \"Sample strata for sampling errors\",\n",
    "    \"Currently pregnant\",\n",
    "    # \"Eco-region\",\n",
    "    # \"Highest grade completed\",\n",
    "    \"Source of drinking water\",\n",
    "    \"Wanted last pregnancy\"]]\n",
    "\n",
    "clean_data[\"No of child deaths\"] = renamed_columns_data[[\"Daughters who have died\", \"Sons who have died\"]].sum(axis=1)"
   ]
  },
  {
   "cell_type": "code",
   "execution_count": 14,
   "id": "6ce150de-1b67-4767-80b4-e0c447d58526",
   "metadata": {
    "tags": []
   },
   "outputs": [
    {
     "data": {
      "text/html": [
       "<div>\n",
       "<style scoped>\n",
       "    .dataframe tbody tr th:only-of-type {\n",
       "        vertical-align: middle;\n",
       "    }\n",
       "\n",
       "    .dataframe tbody tr th {\n",
       "        vertical-align: top;\n",
       "    }\n",
       "\n",
       "    .dataframe thead th {\n",
       "        text-align: right;\n",
       "    }\n",
       "</style>\n",
       "<table border=\"1\" class=\"dataframe\">\n",
       "  <thead>\n",
       "    <tr style=\"text-align: right;\">\n",
       "      <th></th>\n",
       "      <th>Respondent's current age</th>\n",
       "      <th>Age in 5-year groups</th>\n",
       "      <th>Reason for moving to current place of residence</th>\n",
       "      <th>Highest educational level</th>\n",
       "      <th>Sample strata for sampling errors</th>\n",
       "      <th>Currently pregnant</th>\n",
       "      <th>Source of drinking water</th>\n",
       "      <th>Wanted last pregnancy</th>\n",
       "      <th>No of child deaths</th>\n",
       "    </tr>\n",
       "  </thead>\n",
       "  <tbody>\n",
       "    <tr>\n",
       "      <th>0</th>\n",
       "      <td>20.0</td>\n",
       "      <td>2.0</td>\n",
       "      <td>NaN</td>\n",
       "      <td>2.0</td>\n",
       "      <td>2.0</td>\n",
       "      <td>0.0</td>\n",
       "      <td>13.0</td>\n",
       "      <td>2.0</td>\n",
       "      <td>0.0</td>\n",
       "    </tr>\n",
       "    <tr>\n",
       "      <th>1</th>\n",
       "      <td>31.0</td>\n",
       "      <td>4.0</td>\n",
       "      <td>3.0</td>\n",
       "      <td>2.0</td>\n",
       "      <td>2.0</td>\n",
       "      <td>0.0</td>\n",
       "      <td>21.0</td>\n",
       "      <td>1.0</td>\n",
       "      <td>0.0</td>\n",
       "    </tr>\n",
       "    <tr>\n",
       "      <th>2</th>\n",
       "      <td>24.0</td>\n",
       "      <td>2.0</td>\n",
       "      <td>NaN</td>\n",
       "      <td>2.0</td>\n",
       "      <td>2.0</td>\n",
       "      <td>0.0</td>\n",
       "      <td>72.0</td>\n",
       "      <td>1.0</td>\n",
       "      <td>0.0</td>\n",
       "    </tr>\n",
       "    <tr>\n",
       "      <th>3</th>\n",
       "      <td>37.0</td>\n",
       "      <td>5.0</td>\n",
       "      <td>4.0</td>\n",
       "      <td>0.0</td>\n",
       "      <td>2.0</td>\n",
       "      <td>0.0</td>\n",
       "      <td>72.0</td>\n",
       "      <td>1.0</td>\n",
       "      <td>0.0</td>\n",
       "    </tr>\n",
       "    <tr>\n",
       "      <th>4</th>\n",
       "      <td>37.0</td>\n",
       "      <td>5.0</td>\n",
       "      <td>4.0</td>\n",
       "      <td>0.0</td>\n",
       "      <td>2.0</td>\n",
       "      <td>0.0</td>\n",
       "      <td>72.0</td>\n",
       "      <td>1.0</td>\n",
       "      <td>0.0</td>\n",
       "    </tr>\n",
       "  </tbody>\n",
       "</table>\n",
       "</div>"
      ],
      "text/plain": [
       "   Respondent's current age  Age in 5-year groups  \\\n",
       "0                      20.0                   2.0   \n",
       "1                      31.0                   4.0   \n",
       "2                      24.0                   2.0   \n",
       "3                      37.0                   5.0   \n",
       "4                      37.0                   5.0   \n",
       "\n",
       "   Reason for moving to current place of residence  Highest educational level  \\\n",
       "0                                              NaN                        2.0   \n",
       "1                                              3.0                        2.0   \n",
       "2                                              NaN                        2.0   \n",
       "3                                              4.0                        0.0   \n",
       "4                                              4.0                        0.0   \n",
       "\n",
       "   Sample strata for sampling errors  Currently pregnant  \\\n",
       "0                                2.0                 0.0   \n",
       "1                                2.0                 0.0   \n",
       "2                                2.0                 0.0   \n",
       "3                                2.0                 0.0   \n",
       "4                                2.0                 0.0   \n",
       "\n",
       "   Source of drinking water  Wanted last pregnancy  No of child deaths  \n",
       "0                      13.0                    2.0                 0.0  \n",
       "1                      21.0                    1.0                 0.0  \n",
       "2                      72.0                    1.0                 0.0  \n",
       "3                      72.0                    1.0                 0.0  \n",
       "4                      72.0                    1.0                 0.0  "
      ]
     },
     "execution_count": 14,
     "metadata": {},
     "output_type": "execute_result"
    }
   ],
   "source": [
    "clean_data.head()"
   ]
  },
  {
   "cell_type": "code",
   "execution_count": null,
   "id": "6372a203-9335-471f-b8d1-f5a5a7f54e76",
   "metadata": {},
   "outputs": [],
   "source": []
  }
 ],
 "metadata": {
  "kernelspec": {
   "display_name": "Python 3 (ipykernel)",
   "language": "python",
   "name": "python3"
  },
  "language_info": {
   "codemirror_mode": {
    "name": "ipython",
    "version": 3
   },
   "file_extension": ".py",
   "mimetype": "text/x-python",
   "name": "python",
   "nbconvert_exporter": "python",
   "pygments_lexer": "ipython3",
   "version": "3.10.10"
  }
 },
 "nbformat": 4,
 "nbformat_minor": 5
}
